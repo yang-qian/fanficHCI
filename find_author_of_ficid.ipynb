{
 "cells": [
  {
   "cell_type": "markdown",
   "metadata": {},
   "source": [
    "### Given a fic_id, find its author_key, pseudos"
   ]
  },
  {
   "cell_type": "code",
   "execution_count": 1,
   "metadata": {
    "collapsed": true
   },
   "outputs": [],
   "source": [
    "import pandas as pd\n",
    "import json\n",
    "%matplotlib inline\n",
    "import matplotlib.pyplot as plt\n",
    "plt.style.use('ggplot')\n",
    "import pprint\n",
    "from datetime import datetime\n",
    "import numpy as np\n",
    "import requests\n",
    "from bs4 import BeautifulSoup\n",
    "import argparse\n",
    "import time\n",
    "import os\n",
    "import csv\n",
    "import sys\n",
    "from unidecode import unidecode\n",
    "from itertools import groupby\n",
    "from operator import itemgetter"
   ]
  },
  {
   "cell_type": "code",
   "execution_count": 44,
   "metadata": {},
   "outputs": [],
   "source": [
    "def find_author_of_ficid(fic_id):\n",
    "    \"\"\"para: fic_id(str)\"\"\"\n",
    "    \n",
    "    r1 = requests.get(\"https://archiveofourown.org/works/\" + fic_id,\n",
    "                        headers = { 'User-Agent': 'Mozilla/5.0 (Windows NT 6.0; WOW64; rv:24.0) Gecko/20100101 Firefox/24.0'})\n",
    "    soup1 = BeautifulSoup(r1.content, \"html.parser\")\n",
    "    try:\n",
    "        url_splits = soup1.find(\"a\", rel=\"author\")['href'].split('/')\n",
    "        author_key = url_splits[2]\n",
    "        pseud = url_splits[-1]\n",
    "        return author_key, pseud\n",
    "    except:\n",
    "        print('Cannot find author for', fic_id)\n",
    "        return None,None\n",
    "    \n",
    "    \n",
    "    \n",
    "    "
   ]
  },
  {
   "cell_type": "code",
   "execution_count": 45,
   "metadata": {},
   "outputs": [
    {
     "data": {
      "text/plain": [
       "('falmarien', 'falmarien')"
      ]
     },
     "execution_count": 45,
     "metadata": {},
     "output_type": "execute_result"
    }
   ],
   "source": [
    "find_author_of_ficid(\"17445209\")"
   ]
  },
  {
   "cell_type": "markdown",
   "metadata": {},
   "source": [
    "### Add author_key and pseud columns to ```TSNE_embed.csv```"
   ]
  },
  {
   "cell_type": "code",
   "execution_count": 46,
   "metadata": {
    "collapsed": true
   },
   "outputs": [],
   "source": [
    "tsne_file = 'sampledata/relationship_tsne_embed.csv'"
   ]
  },
  {
   "cell_type": "code",
   "execution_count": null,
   "metadata": {},
   "outputs": [
    {
     "name": "stdout",
     "output_type": "stream",
     "text": [
      "['fic_id', 'character', 'relationship', 'additional_tags', 'category', 'd1', 'd2', 'label', 'author_key, pseud']\n",
      "Cannot find author for 15959783\n",
      "Cannot find author for 7796623\n",
      "Cannot find author for 15781191\n"
     ]
    }
   ],
   "source": [
    "# input tsne_embed.csv\n",
    "tsne_fin = open('sampledata/relationship_tsne_embed.csv')\n",
    "rows = csv.reader(tsne_fin)\n",
    "row0 = next(rows)\n",
    "row0.append('author_key, pseud')\n",
    "print(row0)\n",
    "\n",
    "# output tsne_embed_wAuthor.csv\n",
    "fout = open(tsne_file[:-4] + '_wAuthor.csv', mode = \"w+\")\n",
    "foutwriter = csv.writer(fout)\n",
    "foutwriter.writerow(row0)\n",
    "\n",
    "lookup = {} \n",
    "\n",
    "for row in rows:\n",
    "    fic_id = row[0]\n",
    "    \n",
    "    # check we have looked up this fic_id already\n",
    "    if fic_id in lookup:\n",
    "        author_key = lookup[fic_id][0]\n",
    "        pseud = lookup[fic_id][1]\n",
    "    else:\n",
    "        author_key, pseud = find_author_of_ficid(fic_id)\n",
    "        \n",
    "    lookup[fic_id] = (author_key, pseud)\n",
    "    foutwriter.writerow(row + [author_key, pseud])\n",
    "\n",
    "tsne_fin.close()\n",
    "fout.close()"
   ]
  },
  {
   "cell_type": "code",
   "execution_count": null,
   "metadata": {
    "collapsed": true
   },
   "outputs": [],
   "source": []
  },
  {
   "cell_type": "code",
   "execution_count": null,
   "metadata": {
    "collapsed": true
   },
   "outputs": [],
   "source": []
  }
 ],
 "metadata": {
  "kernelspec": {
   "display_name": "Python 3",
   "language": "python",
   "name": "python3"
  },
  "language_info": {
   "codemirror_mode": {
    "name": "ipython",
    "version": 3
   },
   "file_extension": ".py",
   "mimetype": "text/x-python",
   "name": "python",
   "nbconvert_exporter": "python",
   "pygments_lexer": "ipython3",
   "version": "3.5.4"
  }
 },
 "nbformat": 4,
 "nbformat_minor": 2
}
