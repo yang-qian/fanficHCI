{
 "cells": [
  {
   "cell_type": "markdown",
   "metadata": {},
   "source": [
    "Sort fandom by fanfic number"
   ]
  },
  {
   "cell_type": "code",
   "execution_count": 1,
   "metadata": {
    "collapsed": true
   },
   "outputs": [],
   "source": [
    "import pandas as pd\n",
    "from tqdm import tqdm_notebook as tqdm\n",
    "from IPython.display import display\n",
    "from collections import Counter, defaultdict, OrderedDict\n",
    "import os\n",
    "import re\n",
    "from collections import defaultdict\n",
    "import operator\n",
    "from subprocess import call\n",
    "\n",
    "from bs4 import BeautifulSoup\n",
    "import urllib.request\n",
    "from urllib.error import HTTPError\n"
   ]
  },
  {
   "cell_type": "code",
   "execution_count": 2,
   "metadata": {
    "collapsed": true
   },
   "outputs": [],
   "source": [
    "cat_urls = [\n",
    "    'https://archiveofourown.org/media/Anime%20*a*%20Manga/fandoms',\n",
    "    'https://archiveofourown.org/media/Books%20*a*%20Literature/fandoms',\n",
    "    'https://archiveofourown.org/media/Cartoons%20*a*%20Comics%20*a*%20Graphic%20Novels/fandoms',\n",
    "    'https://archiveofourown.org/media/Movies/fandoms',\n",
    "    'https://archiveofourown.org/media/Other%20Media/fandoms',\n",
    "    'https://archiveofourown.org/media/Theater/fandoms',\n",
    "    'https://archiveofourown.org/media/TV%20Shows/fandoms',\n",
    "    'https://archiveofourown.org/media/Video%20Games/fandoms',\n",
    "           ]"
   ]
  },
  {
   "cell_type": "code",
   "execution_count": 3,
   "metadata": {
    "collapsed": true
   },
   "outputs": [],
   "source": [
    "def get_top_fandoms(list_url):\n",
    "\n",
    "    soup = BeautifulSoup(urllib.request.urlopen(list_url).read(), 'html.parser')\n",
    "\n",
    "    fandoms_uls = soup.find_all(\"ul\", {\"class\": \"tags index group\"})\n",
    "    fandoms_list = []\n",
    "    for ul in fandoms_uls:\n",
    "        fandoms_list.extend([(re.search(r'\\n(.*?)\\n', el.text).group(1), int(re.search(r'\\((\\d+)\\)', el.text.strip()[-10:]).group(1))) for el in ul.find_all('li')])\n",
    "\n",
    "    fandoms_sorted = sorted(fandoms_list, key=operator.itemgetter(1), reverse=True)\n",
    "    return fandoms_sorted"
   ]
  },
  {
   "cell_type": "code",
   "execution_count": 4,
   "metadata": {},
   "outputs": [
    {
     "name": "stdout",
     "output_type": "stream",
     "text": [
      "25253\n"
     ]
    },
    {
     "data": {
      "text/plain": [
       "[('Marvel', 296846),\n",
       " ('Marvel Cinematic Universe', 266036),\n",
       " ('Supernatural', 201903),\n",
       " ('Harry Potter - J. K. Rowling', 197503),\n",
       " ('Harry Potter - J. K. Rowling', 197497),\n",
       " ('The Avengers - Ambiguous Fandom', 139682),\n",
       " ('DCU', 137057),\n",
       " ('The Avengers (Marvel) - All Media Types', 136683),\n",
       " ('Sherlock Holmes & Related Fandoms', 120147),\n",
       " ('The Avengers (Marvel Movies)', 115731),\n",
       " ('Sherlock (TV)', 109958),\n",
       " ('Teen Wolf (TV)', 100910),\n",
       " ('Star Wars - All Media Types', 85952),\n",
       " ('Star Wars - All Media Types', 85949),\n",
       " ('Captain America - All Media Types', 75563),\n",
       " ('Captain America (Movies)', 67760),\n",
       " ('Doctor Who & Related Fandoms', 66526),\n",
       " ('Video Blogging RPF', 66103),\n",
       " ('Voltron: Legendary Defender', 64109),\n",
       " ('TOLKIEN J. R. R. - Works & Related Fandoms', 59728),\n",
       " ('Dragon Age - All Media Types', 59374),\n",
       " ('Star Trek', 57499),\n",
       " ('Original Work', 56218),\n",
       " ('Doctor Who', 52667),\n",
       " ('Dragon Age (Video Games)', 52658),\n",
       " ('僕のヒーローアカデミア | Boku no Hero Academia | My Hero Academia', 51586),\n",
       " ('Haikyuu!!', 50977),\n",
       " ('MS Paint Adventures', 47612),\n",
       " ('Homestuck', 47488),\n",
       " ('Stargate - All Media Types', 45307),\n",
       " ('Once Upon a Time (TV)', 42381),\n",
       " ('Star Wars Sequel Trilogy', 40197),\n",
       " ('Shingeki no Kyojin | Attack on Titan', 39477),\n",
       " ('Naruto', 39096),\n",
       " ('Thor (Movies)', 39003),\n",
       " ('Final Fantasy', 37142),\n",
       " ('A Song of Ice and Fire & Related Fandoms', 36842),\n",
       " ('DCU (Comics)', 36541),\n",
       " ('Batman - All Media Types', 35443),\n",
       " ('Arthurian Mythology & Related Fandoms', 35205),\n",
       " ('Doctor Who (2005)', 33731),\n",
       " ('Glee', 33375),\n",
       " ('Merlin (TV)', 32789),\n",
       " ('Yuri!!! on Ice (Anime)', 32775),\n",
       " ('Dragon Age: Inquisition', 31417),\n",
       " ('Hetalia: Axis Powers', 30894),\n",
       " ('Disney - All Media Types', 30400),\n",
       " ('Overwatch (Video Game)', 30372),\n",
       " ('The Hobbit - All Media Types', 30303),\n",
       " ('Marvel (Comics)', 29806),\n",
       " ('Transformers - All Media Types', 28764),\n",
       " ('A Song of Ice and Fire - George R. R. Martin', 28674),\n",
       " ('The 100 (TV)', 28324),\n",
       " ('X-Men - All Media Types', 28297),\n",
       " ('Game of Thrones (TV)', 28248),\n",
       " ('Buffy the Vampire Slayer (TV)', 28107),\n",
       " ('Iron Man (Movies)', 28008),\n",
       " ('The Shadowhunter Chronicles - All Media Types', 27590),\n",
       " ('Star Trek: Alternate Original Series (Movies)', 27042),\n",
       " ('Undertale (Video Game)', 26622),\n",
       " ('Agents of S.H.I.E.L.D. (TV)', 25179),\n",
       " ('Stargate Atlantis', 25127),\n",
       " ('Marvel 616', 25120),\n",
       " ('Spider-Man - All Media Types', 23415),\n",
       " ('X-Men (Movieverse)', 23050),\n",
       " ('Shadowhunters (TV)', 22157),\n",
       " ('Supergirl (TV 2015)', 21820),\n",
       " ('The Lord of the Rings - All Media Types', 21752),\n",
       " ('Stargate SG-1', 21469),\n",
       " ('The Flash - All Media Types', 21230),\n",
       " ('Hannibal Lecter Series - All Media Types', 20681),\n",
       " ('The Walking Dead & Related Fandoms', 20625),\n",
       " ('Hannibal (TV)', 20128),\n",
       " ('Mass Effect - All Media Types', 20076),\n",
       " ('Final Fantasy XV', 19975),\n",
       " ('The Flash (TV 2014)', 19897),\n",
       " ('Les Misérables - All Media Types', 19084),\n",
       " ('Miraculous Ladybug', 19058),\n",
       " ('Arrow (TV 2012)', 18946),\n",
       " (\"Kuroko no Basuke | Kuroko's Basketball\", 18911),\n",
       " ('The Walking Dead (TV)', 17938),\n",
       " ('Percy Jackson and the Olympians & Related Fandoms - All Media Types',\n",
       "  17918),\n",
       " ('Star Wars: Rebellion Era - All Media Types', 17694),\n",
       " ('Fire Emblem Series', 17391),\n",
       " ('Mass Effect Trilogy', 17024),\n",
       " ('Dangan Ronpa - All Media Types', 16589),\n",
       " ('Dangan Ronpa - All Media Types', 16588),\n",
       " ('The Hobbit (Jackson Movies)', 16571),\n",
       " ('Phandom/The Fantastic Foursome (YouTube RPF)', 16544),\n",
       " ('Hamilton - Miranda', 16396),\n",
       " ('Batman (Comics)', 16178),\n",
       " ('Rooster Teeth/Achievement Hunter RPF', 16006),\n",
       " ('Free!', 15966),\n",
       " ('Criminal Minds (US TV)', 15855),\n",
       " ('RIORDAN Rick - Works', 15771),\n",
       " ('Star Wars: Rise of Empire Era - All Media Types', 15315),\n",
       " ('The X-Files', 15013),\n",
       " ('Torchwood', 14670),\n",
       " ('Fullmetal Alchemist - All Media Types', 14663),\n",
       " ('X-Men (Alternate Timeline Movies)', 14652)]"
      ]
     },
     "execution_count": 4,
     "metadata": {},
     "output_type": "execute_result"
    }
   ],
   "source": [
    "all_fandoms = []\n",
    "for fl in cat_urls:\n",
    "    all_fandoms += get_top_fandoms(fl)\n",
    "    all_fandoms_sorted = sorted(list(set(all_fandoms)), key=operator.itemgetter(1), reverse=True)\n",
    "    \n",
    "print(len(all_fandoms_sorted))\n",
    "all_fandoms_sorted[:100]"
   ]
  },
  {
   "cell_type": "code",
   "execution_count": 5,
   "metadata": {},
   "outputs": [
    {
     "data": {
      "text/plain": [
       "[('Marvel', 296846),\n",
       " ('Marvel Cinematic Universe', 266036),\n",
       " ('Supernatural', 201903),\n",
       " ('Harry Potter - J. K. Rowling', 197503),\n",
       " ('Harry Potter - J. K. Rowling', 197497),\n",
       " ('The Avengers - Ambiguous Fandom', 139682),\n",
       " ('DCU', 137057),\n",
       " ('The Avengers (Marvel) - All Media Types', 136683),\n",
       " ('Sherlock Holmes & Related Fandoms', 120147),\n",
       " ('The Avengers (Marvel Movies)', 115731),\n",
       " ('Sherlock (TV)', 109958),\n",
       " ('Teen Wolf (TV)', 100910),\n",
       " ('Star Wars - All Media Types', 85952),\n",
       " ('Star Wars - All Media Types', 85949),\n",
       " ('Captain America - All Media Types', 75563),\n",
       " ('Captain America (Movies)', 67760),\n",
       " ('Doctor Who & Related Fandoms', 66526),\n",
       " ('Video Blogging RPF', 66103),\n",
       " ('Voltron: Legendary Defender', 64109),\n",
       " ('TOLKIEN J. R. R. - Works & Related Fandoms', 59728),\n",
       " ('Dragon Age - All Media Types', 59374),\n",
       " ('Star Trek', 57499),\n",
       " ('Original Work', 56218),\n",
       " ('Doctor Who', 52667),\n",
       " ('Dragon Age (Video Games)', 52658),\n",
       " ('僕のヒーローアカデミア | Boku no Hero Academia | My Hero Academia', 51586),\n",
       " ('Haikyuu!!', 50977),\n",
       " ('MS Paint Adventures', 47612),\n",
       " ('Homestuck', 47488),\n",
       " ('Stargate - All Media Types', 45307),\n",
       " ('Once Upon a Time (TV)', 42381),\n",
       " ('Star Wars Sequel Trilogy', 40197),\n",
       " ('Shingeki no Kyojin | Attack on Titan', 39477),\n",
       " ('Naruto', 39096),\n",
       " ('Thor (Movies)', 39003)]"
      ]
     },
     "execution_count": 5,
     "metadata": {},
     "output_type": "execute_result"
    }
   ],
   "source": [
    "all_fandoms_sorted[:35]"
   ]
  },
  {
   "cell_type": "code",
   "execution_count": null,
   "metadata": {
    "collapsed": true
   },
   "outputs": [],
   "source": [
    "# Save sorted fandoms\n",
    "with open('ao3_top_fandoms.tsv', 'w') as f:\n",
    "    for name, count in all_fandoms_sorted:\n",
    "        f.write(f'{name}\\t{count}\\n')"
   ]
  },
  {
   "cell_type": "code",
   "execution_count": null,
   "metadata": {
    "collapsed": true
   },
   "outputs": [],
   "source": [
    "n = 100\n",
    "\n",
    "top_n = fandoms_sorted[:n]\n",
    "top_n"
   ]
  }
 ],
 "metadata": {
  "kernelspec": {
   "display_name": "Python 3",
   "language": "python",
   "name": "python3"
  },
  "language_info": {
   "codemirror_mode": {
    "name": "ipython",
    "version": 3
   },
   "file_extension": ".py",
   "mimetype": "text/x-python",
   "name": "python",
   "nbconvert_exporter": "python",
   "pygments_lexer": "ipython3",
   "version": "3.5.4"
  }
 },
 "nbformat": 4,
 "nbformat_minor": 2
}
